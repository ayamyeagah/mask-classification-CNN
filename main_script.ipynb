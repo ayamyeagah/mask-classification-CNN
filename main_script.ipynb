{
 "cells": [
  {
   "cell_type": "code",
   "execution_count": 2,
   "metadata": {},
   "outputs": [],
   "source": [
    "# import tf & keras module\n",
    "import tensorflow as tf\n",
    "from tensorflow import keras"
   ]
  },
  {
   "cell_type": "code",
   "execution_count": 3,
   "metadata": {},
   "outputs": [],
   "source": [
    "# extract dataset\n",
    "import zipfile\n",
    "from zipfile import ZipFile\n",
    "\n",
    "with ZipFile(\"D:\\CNN_Anug\\data_baru_rev (2).zip\", \"r\") as zipObj:\n",
    "    zipObj.extractall(\n",
    "        path=\"D:\\CNN_Anug\"\n",
    "    )\n",
    "zipObj.close()"
   ]
  },
  {
   "cell_type": "code",
   "execution_count": 4,
   "metadata": {},
   "outputs": [],
   "source": [
    "# define parameter\n",
    "class C:\n",
    "    TRAIN_DIR = \"data_baru_rev/latih\"\n",
    "    TEST_DIR = \"data_baru_rev/test\"\n",
    "    BATCH_SIZE = 32\n",
    "    EPOCHS = 30"
   ]
  },
  {
   "cell_type": "code",
   "execution_count": 8,
   "metadata": {},
   "outputs": [
    {
     "name": "stdout",
     "output_type": "stream",
     "text": [
      "d\n"
     ]
    }
   ],
   "source": []
  },
  {
   "cell_type": "code",
   "execution_count": null,
   "metadata": {},
   "outputs": [],
   "source": []
  }
 ],
 "metadata": {
  "kernelspec": {
   "display_name": "Python 3",
   "language": "python",
   "name": "python3"
  },
  "language_info": {
   "codemirror_mode": {
    "name": "ipython",
    "version": 3
   },
   "file_extension": ".py",
   "mimetype": "text/x-python",
   "name": "python",
   "nbconvert_exporter": "python",
   "pygments_lexer": "ipython3",
   "version": "3.10.0"
  },
  "orig_nbformat": 4
 },
 "nbformat": 4,
 "nbformat_minor": 2
}
